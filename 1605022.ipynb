{
 "cells": [
  {
   "cell_type": "code",
   "execution_count": 74,
   "metadata": {},
   "outputs": [],
   "source": [
    "import numpy as np\n"
   ]
  },
  {
   "cell_type": "code",
   "execution_count": 75,
   "metadata": {},
   "outputs": [],
   "source": [
    "obs = np.loadtxt(\"data.txt\", dtype=float) "
   ]
  },
  {
   "cell_type": "code",
   "execution_count": 76,
   "metadata": {},
   "outputs": [],
   "source": [
    "obs = obs.reshape(-1,1)"
   ]
  },
  {
   "cell_type": "code",
   "execution_count": 77,
   "metadata": {},
   "outputs": [],
   "source": [
    "paramfile = \"parameters.txt\"\n",
    "states = 0\n",
    "with open(paramfile) as f:\n",
    "    states = int(f.readline().strip())\n",
    "\n",
    "\n",
    "trans_p = np.loadtxt(paramfile , dtype = float , skiprows = 1 , max_rows = states )\n",
    "\n",
    "means = np.loadtxt(paramfile , dtype = float , skiprows = states + 1  , max_rows = 1 ).reshape(-1,1)\n",
    "\n",
    "standard_deviations = np.loadtxt(paramfile , dtype = float , skiprows = states + 2  , max_rows = 1 ).reshape(-1,1)\n"
   ]
  },
  {
   "cell_type": "code",
   "execution_count": 78,
   "metadata": {},
   "outputs": [
    {
     "data": {
      "text/plain": [
       "0.7500000000000001"
      ]
     },
     "execution_count": 78,
     "metadata": {},
     "output_type": "execute_result"
    }
   ],
   "source": [
    "b = np.zeros([states,1] , float)\n",
    "\n",
    "b[states-1][0] = 1\n",
    "\n",
    "a = trans_p[:,:states-1]\n",
    "\n",
    "for i in range(0,states-1):\n",
    "    a[i][i] = a[i][i] - 1\n",
    "\n",
    "a = np.vstack((a , np.ones([states,1]))).reshape(states,states)\n",
    "\n",
    "start_p = np.linalg.solve(a , b)\n",
    "\n"
   ]
  }
 ],
 "metadata": {
  "interpreter": {
   "hash": "916dbcbb3f70747c44a77c7bcd40155683ae19c65e1c03b4aa3499c5328201f1"
  },
  "kernelspec": {
   "display_name": "Python 3.9.7 64-bit",
   "language": "python",
   "name": "python3"
  },
  "language_info": {
   "codemirror_mode": {
    "name": "ipython",
    "version": 3
   },
   "file_extension": ".py",
   "mimetype": "text/x-python",
   "name": "python",
   "nbconvert_exporter": "python",
   "pygments_lexer": "ipython3",
   "version": "3.9.7"
  },
  "orig_nbformat": 4
 },
 "nbformat": 4,
 "nbformat_minor": 2
}
